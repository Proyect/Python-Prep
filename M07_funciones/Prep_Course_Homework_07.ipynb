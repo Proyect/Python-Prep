{
 "cells": [
  {
   "attachments": {},
   "cell_type": "markdown",
   "metadata": {},
   "source": [
    "## Funciones"
   ]
  },
  {
   "attachments": {},
   "cell_type": "markdown",
   "metadata": {},
   "source": [
    "1) Crear una función que reciba un número como parámetro y devuelva True si es primo y False si no lo es"
   ]
  },
  {
   "cell_type": "code",
   "execution_count": 3,
   "metadata": {},
   "outputs": [
    {
     "name": "stdout",
     "output_type": "stream",
     "text": [
      "False\n"
     ]
    }
   ],
   "source": [
    "def is_prime(num=0):\n",
    "    i=2\n",
    "    n=num//2\n",
    "    while(i<n):\n",
    "        if(num%i == 0):\n",
    "            return False\n",
    "        if i ==2:\n",
    "            i+=1\n",
    "        else:\n",
    "            i+=2\n",
    "    return True\n",
    "\n",
    "print(is_prime(117))"
   ]
  },
  {
   "attachments": {},
   "cell_type": "markdown",
   "metadata": {},
   "source": [
    "2) Utilizando la función del punto 1, realizar otra función que reciba de parámetro una lista de números y devuelva sólo aquellos que son primos en otra lista"
   ]
  },
  {
   "cell_type": "code",
   "execution_count": 3,
   "metadata": {},
   "outputs": [
    {
     "name": "stdout",
     "output_type": "stream",
     "text": [
      "[2, 3]\n"
     ]
    }
   ],
   "source": [
    "def is_prime(num=0):\n",
    "    i=2\n",
    "    n=num//2\n",
    "    while(i<n):\n",
    "        if(num%i == 0):\n",
    "            return False\n",
    "        if i ==2:\n",
    "            i+=1\n",
    "        else:\n",
    "            i+=2\n",
    "    return True\n",
    "\n",
    "def primo_list(lis):\n",
    "    vector = []\n",
    "    for i in lis:\n",
    "        if(is_prime(i)):\n",
    "            vector.append(i)\n",
    "    return vector\n",
    "\n",
    "lis = [2,6,8,9,3,6,788,56]\n",
    "print(primo_list(lis))\n"
   ]
  },
  {
   "attachments": {},
   "cell_type": "markdown",
   "metadata": {},
   "source": [
    "3) Crear una función que al recibir una lista de números, devuelva el que más se repite y cuántas veces lo hace. Si hay más de un \"más repetido\", que devuelva cualquiera"
   ]
  },
  {
   "cell_type": "code",
   "execution_count": null,
   "metadata": {},
   "outputs": [],
   "source": []
  },
  {
   "attachments": {},
   "cell_type": "markdown",
   "metadata": {},
   "source": [
    "4) Crear una función que convierta entre grados Celsius, Farenheit y Kelvin<br>\n",
    "Fórmula 1\t: (°C × 9/5) + 32 = °F<br>\n",
    "Fórmula 2\t: °C + 273.15 = °K<br>\n",
    "Debe recibir 3 parámetros: el valor, la medida de orígen y la medida de destino\n"
   ]
  },
  {
   "cell_type": "code",
   "execution_count": 23,
   "metadata": {},
   "outputs": [],
   "source": [
    "def temp(valor, origen, destino):\n",
    "    if((type(valor) == float) or (type(valor) == int)):\n",
    "        if(origen == 'celsius'):\n",
    "            if(destino == 'kelvin'):\n",
    "                return 273.15 + valor\n",
    "            \n",
    "            if(destino == 'farenheit'):\n",
    "                return 32 + ( valor*9/5)\n",
    "            \n",
    "            return \"Error de escritura en destino\"\n",
    "        \n",
    "        elif(origen == 'kelvin'):\n",
    "            \n",
    "            if(destino == 'farenheit'):\n",
    "                return (valor - 273.15)* 1.8\n",
    "            \n",
    "            if(destino == 'celsius'):\n",
    "                return valor - 273.15\n",
    "            \n",
    "            return \"Error de escritura en destino\"\n",
    "                \n",
    "        elif(origen == 'farenheit'):\n",
    "            if(destino == 'celsius'):\n",
    "                return  (valor - 32) * 5/9\n",
    "            \n",
    "            if(destino == 'kelvin'):\n",
    "                return  (valor + 459.67) * 5/9\n",
    "            \n",
    "            return \"Error de escritura en destino\"\n",
    "            \n",
    "        else:\n",
    "            return \"Error de escritura en origen\"    \n",
    "    else:\n",
    "        return \"Solo se permiten numeros\"\n",
    " \n",
    "    "
   ]
  },
  {
   "attachments": {},
   "cell_type": "markdown",
   "metadata": {},
   "source": [
    "5) Iterando una lista con los tres valores posibles de temperatura que recibe la función del punto 5, hacer un print para cada combinación de los mismos:"
   ]
  },
  {
   "cell_type": "code",
   "execution_count": null,
   "metadata": {},
   "outputs": [],
   "source": []
  },
  {
   "attachments": {},
   "cell_type": "markdown",
   "metadata": {},
   "source": [
    "6) Armar una función que devuelva el factorial de un número. Tener en cuenta que el usuario puede equivocarse y enviar de parámetro un número no entero o negativo"
   ]
  },
  {
   "cell_type": "code",
   "execution_count": 21,
   "metadata": {},
   "outputs": [
    {
     "name": "stdout",
     "output_type": "stream",
     "text": [
      "6\n"
     ]
    }
   ],
   "source": [
    "def factorial(numero=0):\n",
    "    if(type(numero)== int):\n",
    "        if(numero<0):\n",
    "            return \"Se trabaja con numeros enteros positivos\"\n",
    "        if (numero==0) or (numero==1):\n",
    "            return 1\n",
    "        fact = 2\n",
    "        i=3\n",
    "        while(i <= numero):\n",
    "            fact *= i\n",
    "            i +=1\n",
    "        return fact            \n",
    "    else:\n",
    "        return \"Typo de datos no correctos\"\n",
    "\n",
    "print(factorial(3))"
   ]
  }
 ],
 "metadata": {
  "interpreter": {
   "hash": "c85384e4cb51c8b72350f3a8712cc8351fdc3955e32a27f9b60c6242ab125f01"
  },
  "kernelspec": {
   "display_name": "Python 3 (ipykernel)",
   "language": "python",
   "name": "python3"
  },
  "language_info": {
   "codemirror_mode": {
    "name": "ipython",
    "version": 3
   },
   "file_extension": ".py",
   "mimetype": "text/x-python",
   "name": "python",
   "nbconvert_exporter": "python",
   "pygments_lexer": "ipython3",
   "version": "3.12.2"
  }
 },
 "nbformat": 4,
 "nbformat_minor": 4
}
